{
 "cells": [
  {
   "cell_type": "markdown",
   "id": "ae79f0e9",
   "metadata": {},
   "source": [
    "# 그래프 탐색 문제"
   ]
  },
  {
   "cell_type": "markdown",
   "id": "868bef47",
   "metadata": {},
   "source": [
    "## 1.음료수 얼려 먹기 문제 : 한 번에 만들 수 있는 아이스크림의 개수를 출력\n",
    "-> 연결 요소 찾기 -> 그래프 형태로 모델링 가능 -> DFS or BFS"
   ]
  },
  {
   "cell_type": "markdown",
   "id": "c8369191",
   "metadata": {},
   "source": [
    "### DFS 활용\n",
    "1. 특정한 지점의 주변 상,하,좌,우를 살펴본 뒤 주변 지점 중에서 값이 '0'이면서 아직 방문하지 않은 지점이 있다면 해당 지점을 방문함.\n",
    "2. 방문함 지점에서 다시 실펴보면서 방문을 진행하는 과정을 반복하면, **연결된 모든 지점**을 방문할 수 있음\n",
    "3. 모든 노드에 대하여 1~2 과정을 반복하며, 반복하지 않은 지점의 수를 카운트 함"
   ]
  },
  {
   "cell_type": "code",
   "execution_count": 9,
   "id": "4e84c72c",
   "metadata": {},
   "outputs": [],
   "source": [
    "N, M = map(int, input(\"구분자는 공백: \").split())\n",
    "\n",
    "graph=[]\n",
    "for i in range(N):\n",
    "    graph.append(list(map(int, input())))"
   ]
  },
  {
   "cell_type": "code",
   "execution_count": 14,
   "id": "7e6e6faa",
   "metadata": {},
   "outputs": [],
   "source": [
    "def dfs(x, y):\n",
    "    # 주어진 범위를 벗어나면 종료\n",
    "    if (x <= -1) or (x >= N) or (y <= -1) or (y >= M):\n",
    "        return False\n",
    "    \n",
    "    #현재 노드를 아직 방문하지 않았다면\n",
    "    if graph[x][y] == 0:\n",
    "        #방문처리\n",
    "        graph[x][y] = 1\n",
    "        #상,하,좌,우 의 위치들도 모두 재귀적으로 호출(방문처리)\n",
    "        dfs(x-1, y)\n",
    "        dfs(x, y-1)\n",
    "        dfs(x+1, y)\n",
    "        dfs(x, y+1)\n",
    "        return True\n",
    "    return False"
   ]
  },
  {
   "cell_type": "code",
   "execution_count": 15,
   "id": "81649799",
   "metadata": {},
   "outputs": [
    {
     "name": "stdout",
     "output_type": "stream",
     "text": [
      "3\n"
     ]
    }
   ],
   "source": [
    "#모든 노드에 대하여 음료수 채우기\n",
    "result = 0\n",
    "for i in range(N):\n",
    "  for j in range(M):\n",
    "    #현재 위치에서 DFS 수행 -> 해당 노드의 인접 노드 모두 방문처리됨!!\n",
    "    if dfs(i, j) == True:\n",
    "      result += 1\n",
    "            \n",
    "print(result)"
   ]
  },
  {
   "cell_type": "markdown",
   "id": "a89eceae",
   "metadata": {},
   "source": [
    "## 2.미로 탈출 문제 : 미로를 탈출하기 위해 움직이는 최소 칸의 개수\n",
    "-> 최소 거리 -> BFS"
   ]
  },
  {
   "cell_type": "markdown",
   "id": "e99cc523",
   "metadata": {},
   "source": [
    "### BFS\n",
    "상,하,좌,우 연결된 모든 노드로의 거리가 1로 동일함\n",
    "-> 방문 노드의 거리를 세면 칸의 갯수를 구할 수 있음"
   ]
  },
  {
   "cell_type": "code",
   "execution_count": 16,
   "id": "230c226f",
   "metadata": {},
   "outputs": [],
   "source": [
    "from collections import deque\n",
    "\n",
    "n, m = map(int, input(\"구분자는 공백: \").split())\n",
    "\n",
    "graph=[]\n",
    "for i in range(n):\n",
    "    graph.append(list(map(int, input())))\n",
    "    \n",
    "#이동할 네 가지 방향 정의\n",
    "dx = [-1, 1, 0, 0]\n",
    "dy = [0, 0, -1, 1]"
   ]
  },
  {
   "cell_type": "code",
   "execution_count": 18,
   "id": "dcb899d9",
   "metadata": {},
   "outputs": [
    {
     "name": "stdout",
     "output_type": "stream",
     "text": [
      "10\n"
     ]
    }
   ],
   "source": [
    "def bfs(x,y):\n",
    "    queue = deque()\n",
    "    queue.append((x,y))\n",
    "    #큐가 빌 때까지 반복\n",
    "    while queue:\n",
    "        x, y = queue.popleft()\n",
    "        # 현재 위치에서 4가지 방향으로의 위치 확인\n",
    "        for i in range(4):\n",
    "            nx = x +dx[i]\n",
    "            ny = y +dy[i]\n",
    "            #미로 공간을 벗어난 경우 무시\n",
    "            if nx <0 or nx >= n or ny < 0 or ny >= m:\n",
    "                continue\n",
    "            #벽인 경우 무시\n",
    "            if graph[nx][ny] == 0:\n",
    "                continue\n",
    "            \n",
    "            #해당 노드를 처음 방문하는 경우에만 최단 거리 기록\n",
    "            if graph[nx][ny]==1:\n",
    "                graph[nx][ny] = graph[x][y] +1\n",
    "                queue.append((nx,ny))\n",
    "    #가장 오른쪽 아래까지의 최단 거리 반환\n",
    "    return graph[n-1][m-1]\n",
    "\n",
    "print(bfs(0,0))"
   ]
  }
 ],
 "metadata": {
  "kernelspec": {
   "display_name": "Python 3 (ipykernel)",
   "language": "python",
   "name": "python3"
  },
  "language_info": {
   "codemirror_mode": {
    "name": "ipython",
    "version": 3
   },
   "file_extension": ".py",
   "mimetype": "text/x-python",
   "name": "python",
   "nbconvert_exporter": "python",
   "pygments_lexer": "ipython3",
   "version": "3.9.10"
  }
 },
 "nbformat": 4,
 "nbformat_minor": 5
}
